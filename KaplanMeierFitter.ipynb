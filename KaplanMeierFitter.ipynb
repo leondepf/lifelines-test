{
 "cells": [
  {
   "cell_type": "code",
   "execution_count": 4,
   "metadata": {},
   "outputs": [
    {
     "data": {
      "text/plain": [
       "12    1\n",
       "13    5\n",
       "14    1\n",
       "15    1\n",
       "16    3\n",
       "17    3\n",
       "Name: duration, dtype: int64"
      ]
     },
     "execution_count": 4,
     "metadata": {},
     "output_type": "execute_result"
    }
   ],
   "source": [
    "from lifelines.datasets import load_dd\n",
    "import matplotlib\n",
    "from matplotlib import pyplot as plt\n",
    "%matplotlib inline\n",
    "\n",
    "data = load_dd()\n",
    "data.head()\n",
    "#data.shape\n",
    "#data.describecribe()\n",
    "#data.index\n",
    "#data.values\n",
    "data.iloc[12:18,10]"
   ]
  },
  {
   "cell_type": "code",
   "execution_count": 5,
   "metadata": {},
   "outputs": [],
   "source": [
    "from lifelines import KaplanMeierFitter\n",
    "kmf = KaplanMeierFitter()"
   ]
  },
  {
   "cell_type": "code",
   "execution_count": 6,
   "metadata": {},
   "outputs": [],
   "source": [
    "T = data[\"duration\"]\n",
    "E = data[\"observed\"]\n",
    "#print(T)\n",
    "#print(E)"
   ]
  },
  {
   "cell_type": "code",
   "execution_count": 7,
   "metadata": {},
   "outputs": [
    {
     "data": {
      "text/plain": [
       "<lifelines.KaplanMeierFitter:\"KM_estimate\", fitted with 1808 total observations, 340 right-censored observations>"
      ]
     },
     "execution_count": 7,
     "metadata": {},
     "output_type": "execute_result"
    }
   ],
   "source": [
    "kmf.fit(T,event_observed=E)"
   ]
  },
  {
   "cell_type": "code",
   "execution_count": 8,
   "metadata": {},
   "outputs": [
    {
     "data": {
      "text/plain": [
       "<matplotlib.axes._subplots.AxesSubplot at 0x1c45149eac8>"
      ]
     },
     "execution_count": 8,
     "metadata": {},
     "output_type": "execute_result"
    },
    {
     "data": {
      "image/png": "[encoded data removed]",
      "text/plain": [
       "<Figure size 432x288 with 1 Axes>"
      ]
     },
     "metadata": {
      "needs_background": "light"
     },
     "output_type": "display_data"
    }
   ],
   "source": [
    "kmf.plot()"
   ]
  },
  {
   "cell_type": "code",
   "execution_count": 9,
   "metadata": {},
   "outputs": [
    {
     "data": {
      "text/plain": [
       "4.0"
      ]
     },
     "execution_count": 9,
     "metadata": {},
     "output_type": "execute_result"
    }
   ],
   "source": [
    "kmf.median_survival_time_"
   ]
  },
  {
   "cell_type": "code",
   "execution_count": 10,
   "metadata": {},
   "outputs": [],
   "source": [
    "from lifelines.utils import median_survival_times\n",
    "median_ci = median_survival_times(kmf.confidence_interval_)"
   ]
  },
  {
   "cell_type": "code",
   "execution_count": 11,
   "metadata": {},
   "outputs": [
    {
     "name": "stdout",
     "output_type": "stream",
     "text": [
      "12       1\n",
      "13       5\n",
      "14       1\n",
      "15       1\n",
      "16       3\n",
      "17       3\n",
      "18       4\n",
      "26       1\n",
      "27      11\n",
      "28       4\n",
      "31      13\n",
      "32      10\n",
      "33       5\n",
      "34       9\n",
      "36       4\n",
      "38       3\n",
      "42       1\n",
      "43       2\n",
      "47       6\n",
      "48      10\n",
      "49       2\n",
      "50       1\n",
      "51       3\n",
      "52       2\n",
      "53       2\n",
      "54       4\n",
      "55       1\n",
      "56       1\n",
      "57       1\n",
      "58       1\n",
      "        ..\n",
      "1735     1\n",
      "1736     1\n",
      "1737     1\n",
      "1738     1\n",
      "1739     5\n",
      "1740     1\n",
      "1743     5\n",
      "1744     5\n",
      "1745     5\n",
      "1746     5\n",
      "1747     4\n",
      "1749    11\n",
      "1750     4\n",
      "1751     3\n",
      "1752     1\n",
      "1753     2\n",
      "1754     3\n",
      "1755     4\n",
      "1756     1\n",
      "1757     2\n",
      "1761     5\n",
      "1762     5\n",
      "1763     5\n",
      "1764     5\n",
      "1765     5\n",
      "1766     5\n",
      "1767     4\n",
      "1768     1\n",
      "1769     5\n",
      "1770    10\n",
      "Name: duration, Length: 1187, dtype: int64\n"
     ]
    },
    {
     "data": {
      "image/png": "[encoded data removed]",
      "text/plain": [
       "<Figure size 432x288 with 1 Axes>"
      ]
     },
     "metadata": {
      "needs_background": "light"
     },
     "output_type": "display_data"
    }
   ],
   "source": [
    "ax = plt.subplot(111)\n",
    "\n",
    "dem = (data[\"democracy\"] == \"Democracy\")\n",
    "#print(dem)  #dem为条件data[\"democracy\"] == \"Democracy\"返回的一列true或flase值\n",
    "##dem.shape\n",
    "print(T[dem])\n",
    "#print(T[data[\"democracy\"] == \"Democracy\"]) #从T中取出\"民主分类为\"Democracy\"所对应的数据，T为已经从\"duration\"列取出的数据\n",
    "\n",
    "kmf.fit(T[dem], event_observed=E[dem], label=\"Democratic Regimes\")\n",
    "kmf.plot(ax=ax)\n",
    "\n",
    "kmf.fit(T[~dem], event_observed=E[~dem], label=\"Non-democratic Regimes\")\n",
    "kmf.plot(ax=ax)\n",
    "\n",
    "plt.ylim(0, 1);\n",
    "plt.title(\"Lifespans of different global regimes\");"
   ]
  },
  {
   "cell_type": "code",
   "execution_count": null,
   "metadata": {},
   "outputs": [],
   "source": []
  }
 ],
 "metadata": {
  "kernelspec": {
   "display_name": "Python 3",
   "language": "python",
   "name": "python3"
  },
  "language_info": {
   "codemirror_mode": {
    "name": "ipython",
    "version": 3
   },
   "file_extension": ".py",
   "mimetype": "text/x-python",
   "name": "python",
   "nbconvert_exporter": "python",
   "pygments_lexer": "ipython3",
   "version": "3.6.8"
  }
 },
 "nbformat": 4,
 "nbformat_minor": 2
}
